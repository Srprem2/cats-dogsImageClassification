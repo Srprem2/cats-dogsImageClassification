{
 "cells": [
  {
   "cell_type": "code",
   "execution_count": 17,
   "id": "cf3a21ef",
   "metadata": {},
   "outputs": [],
   "source": [
    "import tensorflow as tf\n",
    "from tensorflow import keras \n",
    "from keras import Sequential \n",
    "from keras.layers import Dense,Conv2D,MaxPooling2D,Flatten,BatchNormalization,Dropout"
   ]
  },
  {
   "cell_type": "code",
   "execution_count": 18,
   "id": "a4cd1655",
   "metadata": {},
   "outputs": [
    {
     "name": "stdout",
     "output_type": "stream",
     "text": [
      "Found 8000 files belonging to 2 classes.\n",
      "Found 2000 files belonging to 2 classes.\n"
     ]
    }
   ],
   "source": [
    " \n",
    "train_ds = keras.utils.image_dataset_from_directory(\n",
    "  directory = 'C:\\\\Users\\\\Admin\\\\Desktop\\\\Deep Learning\\\\catDog\\\\dataset\\\\training_set',\n",
    "  labels = 'inferred',\n",
    "    label_mode = 'int',\n",
    "    batch_size = 32,\n",
    "    image_size = (256,256)\n",
    ")\n",
    "validation_ds = keras.utils.image_dataset_from_directory(\n",
    "  directory = 'C:\\\\Users\\\\Admin\\\\Desktop\\\\Deep Learning\\\\catDog\\\\dataset\\\\test_set',\n",
    "  labels = 'inferred',\n",
    "    label_mode = 'int',\n",
    "    batch_size = 32,\n",
    "    image_size = (256,256)\n",
    ")"
   ]
  },
  {
   "cell_type": "code",
   "execution_count": 19,
   "id": "3a152ad3",
   "metadata": {},
   "outputs": [],
   "source": [
    "# normalize\n",
    "def process(image,label):\n",
    "    image - tf.cast(image/255. , tf.float32)\n",
    "    return image,label\n",
    "\n",
    "train_ds = train_ds.map(process)\n",
    "validation_ds = validation_ds.map(process)"
   ]
  },
  {
   "cell_type": "code",
   "execution_count": 22,
   "id": "26b1ace0",
   "metadata": {},
   "outputs": [],
   "source": [
    "model = Sequential()\n",
    "model.add(Conv2D(32,kernel_size=(3,3) , padding='valid' , activation = 'relu' ,input_shape= (256,256,3)))\n",
    "model.add(BatchNormalization())\n",
    "model.add(MaxPooling2D(pool_size=(2,2), strides = 2, padding ='valid'))\n",
    "\n",
    "\n",
    "model.add(Conv2D(64,kernel_size=(3,3) , padding='valid' , activation = 'relu'))\n",
    "model.add(BatchNormalization())\n",
    "model.add(MaxPooling2D(pool_size=(2,2), strides = 2, padding ='valid'))\n",
    "                       \n",
    "model.add(Conv2D(128 ,  kernel_size=(3,3) , padding='valid' , activation = 'relu'))\n",
    "model.add(BatchNormalization())\n",
    "model.add(MaxPooling2D(pool_size=(2,2), strides = 2, padding ='valid'))\n",
    "                       \n",
    "model.add(Flatten())\n",
    "                       \n",
    "model.add(Dense(128,activation = 'relu'))\n",
    "model.add(Dropout(0.1))\n",
    "model.add(Dense(64,activation = 'relu'))\n",
    "model.add(Dense(1,activation = 'sigmoid'))"
   ]
  },
  {
   "cell_type": "code",
   "execution_count": 23,
   "id": "f1070a76",
   "metadata": {},
   "outputs": [
    {
     "name": "stdout",
     "output_type": "stream",
     "text": [
      "Model: \"sequential_4\"\n",
      "_________________________________________________________________\n",
      " Layer (type)                Output Shape              Param #   \n",
      "=================================================================\n",
      " conv2d_10 (Conv2D)          (None, 254, 254, 32)      896       \n",
      "                                                                 \n",
      " batch_normalization_3 (Bat  (None, 254, 254, 32)      128       \n",
      " chNormalization)                                                \n",
      "                                                                 \n",
      " max_pooling2d_9 (MaxPoolin  (None, 127, 127, 32)      0         \n",
      " g2D)                                                            \n",
      "                                                                 \n",
      " conv2d_11 (Conv2D)          (None, 125, 125, 64)      18496     \n",
      "                                                                 \n",
      " batch_normalization_4 (Bat  (None, 125, 125, 64)      256       \n",
      " chNormalization)                                                \n",
      "                                                                 \n",
      " max_pooling2d_10 (MaxPooli  (None, 62, 62, 64)        0         \n",
      " ng2D)                                                           \n",
      "                                                                 \n",
      " conv2d_12 (Conv2D)          (None, 60, 60, 128)       73856     \n",
      "                                                                 \n",
      " batch_normalization_5 (Bat  (None, 60, 60, 128)       512       \n",
      " chNormalization)                                                \n",
      "                                                                 \n",
      " max_pooling2d_11 (MaxPooli  (None, 30, 30, 128)       0         \n",
      " ng2D)                                                           \n",
      "                                                                 \n",
      " flatten_2 (Flatten)         (None, 115200)            0         \n",
      "                                                                 \n",
      " dense_4 (Dense)             (None, 128)               14745728  \n",
      "                                                                 \n",
      " dropout (Dropout)           (None, 128)               0         \n",
      "                                                                 \n",
      " dense_5 (Dense)             (None, 64)                8256      \n",
      "                                                                 \n",
      " dense_6 (Dense)             (None, 1)                 65        \n",
      "                                                                 \n",
      "=================================================================\n",
      "Total params: 14848193 (56.64 MB)\n",
      "Trainable params: 14847745 (56.64 MB)\n",
      "Non-trainable params: 448 (1.75 KB)\n",
      "_________________________________________________________________\n"
     ]
    }
   ],
   "source": [
    "model.summary()"
   ]
  },
  {
   "cell_type": "code",
   "execution_count": 26,
   "id": "74853baa",
   "metadata": {},
   "outputs": [],
   "source": [
    "model.compile(optimizer = 'adam' , loss ='binary_crossentropy', metrics = ['accuracy'])"
   ]
  },
  {
   "cell_type": "code",
   "execution_count": 27,
   "id": "32a04981",
   "metadata": {
    "scrolled": true
   },
   "outputs": [
    {
     "name": "stdout",
     "output_type": "stream",
     "text": [
      "Epoch 1/10\n",
      "250/250 [==============================] - 1260s 5s/step - loss: 2.2894 - accuracy: 0.5581 - val_loss: 0.8623 - val_accuracy: 0.5575\n",
      "Epoch 2/10\n",
      "250/250 [==============================] - 1296s 5s/step - loss: 0.7321 - accuracy: 0.6298 - val_loss: 0.6120 - val_accuracy: 0.6405\n",
      "Epoch 3/10\n",
      "250/250 [==============================] - 1143s 5s/step - loss: 0.5716 - accuracy: 0.7074 - val_loss: 0.5774 - val_accuracy: 0.7125\n",
      "Epoch 4/10\n",
      "250/250 [==============================] - 22066s 89s/step - loss: 0.5228 - accuracy: 0.7398 - val_loss: 0.6044 - val_accuracy: 0.6995\n",
      "Epoch 5/10\n",
      "250/250 [==============================] - 3545s 14s/step - loss: 0.4554 - accuracy: 0.7857 - val_loss: 0.5693 - val_accuracy: 0.7045\n",
      "Epoch 6/10\n",
      "250/250 [==============================] - 1290s 5s/step - loss: 0.4048 - accuracy: 0.8129 - val_loss: 0.8447 - val_accuracy: 0.6500\n",
      "Epoch 7/10\n",
      "250/250 [==============================] - 1430s 6s/step - loss: 0.3370 - accuracy: 0.8457 - val_loss: 0.5830 - val_accuracy: 0.7330\n",
      "Epoch 8/10\n",
      "250/250 [==============================] - 1400s 6s/step - loss: 0.2844 - accuracy: 0.8725 - val_loss: 0.6662 - val_accuracy: 0.7430\n",
      "Epoch 9/10\n",
      "250/250 [==============================] - 1285s 5s/step - loss: 0.2294 - accuracy: 0.9001 - val_loss: 0.9058 - val_accuracy: 0.7200\n",
      "Epoch 10/10\n",
      "250/250 [==============================] - 1397s 6s/step - loss: 0.2059 - accuracy: 0.9144 - val_loss: 0.8194 - val_accuracy: 0.7130\n"
     ]
    },
    {
     "data": {
      "text/plain": [
       "<keras.src.callbacks.History at 0x259023b4890>"
      ]
     },
     "execution_count": 27,
     "metadata": {},
     "output_type": "execute_result"
    }
   ],
   "source": [
    "model.fit(train_ds,epochs = 10,validation_data = validation_ds)"
   ]
  },
  {
   "cell_type": "code",
   "execution_count": null,
   "id": "7c8e3392",
   "metadata": {},
   "outputs": [],
   "source": []
  },
  {
   "cell_type": "code",
   "execution_count": null,
   "id": "7df61cd8",
   "metadata": {},
   "outputs": [],
   "source": []
  }
 ],
 "metadata": {
  "kernelspec": {
   "display_name": "Python 3 (ipykernel)",
   "language": "python",
   "name": "python3"
  },
  "language_info": {
   "codemirror_mode": {
    "name": "ipython",
    "version": 3
   },
   "file_extension": ".py",
   "mimetype": "text/x-python",
   "name": "python",
   "nbconvert_exporter": "python",
   "pygments_lexer": "ipython3",
   "version": "3.11.4"
  }
 },
 "nbformat": 4,
 "nbformat_minor": 5
}
